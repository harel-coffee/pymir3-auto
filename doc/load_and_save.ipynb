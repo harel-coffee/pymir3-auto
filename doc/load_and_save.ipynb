{
 "cells": [
  {
   "cell_type": "markdown",
   "metadata": {
    "collapsed": true
   },
   "source": [
    "# Loading and saving data\n",
    "\n",
    "This code demostrates how to save/load data from PyMIR3's data container objects."
   ]
  },
  {
   "cell_type": "code",
   "execution_count": null,
   "metadata": {
    "collapsed": true
   },
   "outputs": [],
   "source": [
    "import mir3.modules.tool.wav2spectrogram as spec\n",
    "import mir3.data.spectrogram as spectrogram\n",
    "\n",
    "# Calculate spectrogram\n",
    "converter = spec.Wav2Spectrogram()\n",
    "s = converter.convert(open(\"examples/157447__nengisuls__solo-loops-2.wav\"), window_length=2048, dft_length=2048,\n",
    "            window_step=1024, spectrum_type='magnitude', save_metadata=True)\n",
    "\n",
    "p = copy.deepcopy(s.data)\n",
    "s.save(open('test.spec', 'w+'))\n",
    "g = spectrogram.Spectrogram().load(open('test.spec', 'r'))"
   ]
  }
 ],
 "metadata": {
  "kernelspec": {
   "display_name": "Python 2",
   "language": "python",
   "name": "python2"
  },
  "language_info": {
   "codemirror_mode": {
    "name": "ipython",
    "version": 2
   },
   "file_extension": ".py",
   "mimetype": "text/x-python",
   "name": "python",
   "nbconvert_exporter": "python",
   "pygments_lexer": "ipython2",
   "version": "2.7.10"
  }
 },
 "nbformat": 4,
 "nbformat_minor": 0
}
